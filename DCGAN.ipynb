{
 "cells": [
  {
   "cell_type": "markdown",
   "execution_count": null,
   "metadata": {
    "id": "e1_Y75QXJS6h",
    "papermill": {
     "duration": 0.011272,
     "end_time": "2020-09-07T18:59:33.593151",
     "exception": false,
     "start_time": "2020-09-07T18:59:33.581879",
     "status": "completed"
    },
    "tags": []
   },
   "source": [
    "### 텐서플로와 다른 라이브러리 불러오기"
   ]
  },
  {
   "cell_type": "code",
   "execution_count": 1,
   "metadata": {
    "execution": {
     "iopub.execute_input": "2020-09-07T18:59:33.619739Z",
     "iopub.status.busy": "2020-09-07T18:59:33.618942Z",
     "iopub.status.idle": "2020-09-07T19:00:02.172983Z",
     "shell.execute_reply": "2020-09-07T19:00:02.171825Z"
    },
    "id": "YzTlj4YdCip_",
    "papermill": {
     "duration": 28.568667,
     "end_time": "2020-09-07T19:00:02.173138",
     "exception": false,
     "start_time": "2020-09-07T18:59:33.604471",
     "status": "completed"
    },
    "tags": []
   },
   "outputs": [],
   "source": [
    "# GIF를 만들기위해 설치합니다.\n",
    "!pip install -q imageio"
   ]
  },
  {
   "cell_type": "code",
   "execution_count": 2,
   "metadata": {
    "execution": {
     "iopub.execute_input": "2020-09-07T19:00:02.201728Z",
     "iopub.status.busy": "2020-09-07T19:00:02.200937Z",
     "iopub.status.idle": "2020-09-07T19:00:07.902231Z",
     "shell.execute_reply": "2020-09-07T19:00:07.901174Z"
    },
    "id": "YfIk2es3hJEd",
    "papermill": {
     "duration": 5.718726,
     "end_time": "2020-09-07T19:00:07.902364",
     "exception": false,
     "start_time": "2020-09-07T19:00:02.183638",
     "status": "completed"
    },
    "tags": []
   },
   "outputs": [],
   "source": [
    "import tensorflow as tf\n",
    "import glob\n",
    "import imageio\n",
    "import matplotlib.pyplot as plt\n",
    "import numpy as np\n",
    "import os\n",
    "import PIL\n",
    "from tensorflow.keras import layers\n",
    "import time\n",
    "import pandas as pd\n",
    "from keras.utils.np_utils import to_categorical\n",
    "import random\n",
    "import base64\n",
    "from IPython.display import HTML\n",
    "import time; import random; import datetime\n",
    "\n",
    "from IPython import display"
   ]
  },
  {
   "cell_type": "markdown",
   "execution_count": null,
   "metadata": {
    "id": "iYn4MdZnKCey",
    "papermill": {
     "duration": 0.010102,
     "end_time": "2020-09-07T19:00:07.923513",
     "exception": false,
     "start_time": "2020-09-07T19:00:07.913411",
     "status": "completed"
    },
    "tags": []
   },
   "source": [
    "### 데이터셋 로딩 및 준비\n",
    "생성자와 감별자를 훈련하기위해 MNIST 데이터셋을 사용할것입니다. 생성자는 손글씨 숫자 데이터를 닮은 숫자들을 생성할 것입니다. "
   ]
  },
  {
   "cell_type": "code",
   "execution_count": 3,
   "metadata": {
    "execution": {
     "iopub.execute_input": "2020-09-07T19:00:07.998759Z",
     "iopub.status.busy": "2020-09-07T19:00:07.998117Z",
     "iopub.status.idle": "2020-09-07T19:00:09.926186Z",
     "shell.execute_reply": "2020-09-07T19:00:09.925168Z"
    },
    "papermill": {
     "duration": 1.992901,
     "end_time": "2020-09-07T19:00:09.926315",
     "exception": false,
     "start_time": "2020-09-07T19:00:07.933414",
     "status": "completed"
    },
    "tags": []
   },
   "outputs": [],
   "source": [
    "DFtrain = pd.read_csv('../input/computer-vision-learning-contest-dacon/train.csv')\n",
    "test = pd.read_csv('../input/computer-vision-learning-contest-dacon/test.csv')\n",
    "submission = pd.read_csv('../input/computer-vision-learning-contest-dacon/submission.csv')"
   ]
  },
  {
   "cell_type": "code",
   "execution_count": 4,
   "metadata": {
    "execution": {
     "iopub.execute_input": "2020-09-07T19:00:09.958546Z",
     "iopub.status.busy": "2020-09-07T19:00:09.957695Z",
     "iopub.status.idle": "2020-09-07T19:00:09.994966Z",
     "shell.execute_reply": "2020-09-07T19:00:09.993536Z"
    },
    "id": "NFC2ghIdiZYE",
    "papermill": {
     "duration": 0.05838,
     "end_time": "2020-09-07T19:00:09.995116",
     "exception": false,
     "start_time": "2020-09-07T19:00:09.936736",
     "status": "completed"
    },
    "tags": []
   },
   "outputs": [],
   "source": [
    "X_train = (DFtrain[[str(i) for i in range(784)]] / 255.).values.reshape(-1, 28, 28, 1)\n",
    "y_train = to_categorical(DFtrain['digit'].values)"
   ]
  },
  {
   "cell_type": "code",
   "execution_count": 5,
   "metadata": {
    "execution": {
     "iopub.execute_input": "2020-09-07T19:00:10.026387Z",
     "iopub.status.busy": "2020-09-07T19:00:10.025698Z",
     "iopub.status.idle": "2020-09-07T19:00:10.228918Z",
     "shell.execute_reply": "2020-09-07T19:00:10.229474Z"
    },
    "papermill": {
     "duration": 0.224236,
     "end_time": "2020-09-07T19:00:10.229612",
     "exception": false,
     "start_time": "2020-09-07T19:00:10.005376",
     "status": "completed"
    },
    "tags": []
   },
   "outputs": [
    {
     "data": {
      "image/png": "[encoded data removed]",
      "text/plain": [
       "<Figure size 432x288 with 1 Axes>"
      ]
     },
     "metadata": {
      "needs_background": "light"
     },
     "output_type": "display_data"
    }
   ],
   "source": [
    "idx = random.randint(0, 2048)\n",
    "img = DFtrain.loc[idx, '0':].values.reshape(28, 28).astype(int)\n",
    "digit = DFtrain.loc[idx, 'digit']\n",
    "letter = DFtrain.loc[idx, 'letter']\n",
    "\n",
    "plt.title('Index: %i, Digit: %s, Letter: %s'%(idx, digit, letter))\n",
    "plt.imshow(img)\n",
    "plt.show()"
   ]
  },
  {
   "cell_type": "code",
   "execution_count": 6,
   "metadata": {
    "execution": {
     "iopub.execute_input": "2020-09-07T19:00:10.274561Z",
     "iopub.status.busy": "2020-09-07T19:00:10.273932Z",
     "iopub.status.idle": "2020-09-07T19:00:10.289526Z",
     "shell.execute_reply": "2020-09-07T19:00:10.289989Z"
    },
    "papermill": {
     "duration": 0.049139,
     "end_time": "2020-09-07T19:00:10.290129",
     "exception": false,
     "start_time": "2020-09-07T19:00:10.240990",
     "status": "completed"
    },
    "tags": []
   },
   "outputs": [
    {
     "data": {
      "text/html": [
       "<div>\n",
       "<style scoped>\n",
       "    .dataframe tbody tr th:only-of-type {\n",
       "        vertical-align: middle;\n",
       "    }\n",
       "\n",
       "    .dataframe tbody tr th {\n",
       "        vertical-align: top;\n",
       "    }\n",
       "\n",
       "    .dataframe thead th {\n",
       "        text-align: right;\n",
       "    }\n",
       "</style>\n",
       "<table border=\"1\" class=\"dataframe\">\n",
       "  <thead>\n",
       "    <tr style=\"text-align: right;\">\n",
       "      <th></th>\n",
       "      <th>id</th>\n",
       "      <th>digit</th>\n",
       "      <th>letter</th>\n",
       "      <th>0</th>\n",
       "      <th>1</th>\n",
       "      <th>2</th>\n",
       "      <th>3</th>\n",
       "      <th>4</th>\n",
       "      <th>5</th>\n",
       "      <th>6</th>\n",
       "      <th>...</th>\n",
       "      <th>774</th>\n",
       "      <th>775</th>\n",
       "      <th>776</th>\n",
       "      <th>777</th>\n",
       "      <th>778</th>\n",
       "      <th>779</th>\n",
       "      <th>780</th>\n",
       "      <th>781</th>\n",
       "      <th>782</th>\n",
       "      <th>783</th>\n",
       "    </tr>\n",
       "  </thead>\n",
       "  <tbody>\n",
       "    <tr>\n",
       "      <th>1</th>\n",
       "      <td>2</td>\n",
       "      <td>0</td>\n",
       "      <td>B</td>\n",
       "      <td>0</td>\n",
       "      <td>4</td>\n",
       "      <td>0</td>\n",
       "      <td>0</td>\n",
       "      <td>4</td>\n",
       "      <td>1</td>\n",
       "      <td>1</td>\n",
       "      <td>...</td>\n",
       "      <td>0</td>\n",
       "      <td>3</td>\n",
       "      <td>0</td>\n",
       "      <td>1</td>\n",
       "      <td>4</td>\n",
       "      <td>1</td>\n",
       "      <td>4</td>\n",
       "      <td>2</td>\n",
       "      <td>1</td>\n",
       "      <td>2</td>\n",
       "    </tr>\n",
       "    <tr>\n",
       "      <th>15</th>\n",
       "      <td>16</td>\n",
       "      <td>0</td>\n",
       "      <td>I</td>\n",
       "      <td>1</td>\n",
       "      <td>3</td>\n",
       "      <td>2</td>\n",
       "      <td>3</td>\n",
       "      <td>0</td>\n",
       "      <td>2</td>\n",
       "      <td>4</td>\n",
       "      <td>...</td>\n",
       "      <td>0</td>\n",
       "      <td>2</td>\n",
       "      <td>3</td>\n",
       "      <td>3</td>\n",
       "      <td>2</td>\n",
       "      <td>4</td>\n",
       "      <td>2</td>\n",
       "      <td>3</td>\n",
       "      <td>1</td>\n",
       "      <td>4</td>\n",
       "    </tr>\n",
       "    <tr>\n",
       "      <th>21</th>\n",
       "      <td>22</td>\n",
       "      <td>0</td>\n",
       "      <td>Y</td>\n",
       "      <td>4</td>\n",
       "      <td>2</td>\n",
       "      <td>4</td>\n",
       "      <td>0</td>\n",
       "      <td>0</td>\n",
       "      <td>1</td>\n",
       "      <td>4</td>\n",
       "      <td>...</td>\n",
       "      <td>4</td>\n",
       "      <td>0</td>\n",
       "      <td>4</td>\n",
       "      <td>4</td>\n",
       "      <td>3</td>\n",
       "      <td>4</td>\n",
       "      <td>2</td>\n",
       "      <td>3</td>\n",
       "      <td>2</td>\n",
       "      <td>0</td>\n",
       "    </tr>\n",
       "    <tr>\n",
       "      <th>22</th>\n",
       "      <td>23</td>\n",
       "      <td>0</td>\n",
       "      <td>T</td>\n",
       "      <td>2</td>\n",
       "      <td>2</td>\n",
       "      <td>2</td>\n",
       "      <td>4</td>\n",
       "      <td>2</td>\n",
       "      <td>0</td>\n",
       "      <td>3</td>\n",
       "      <td>...</td>\n",
       "      <td>2</td>\n",
       "      <td>4</td>\n",
       "      <td>0</td>\n",
       "      <td>3</td>\n",
       "      <td>0</td>\n",
       "      <td>1</td>\n",
       "      <td>2</td>\n",
       "      <td>2</td>\n",
       "      <td>2</td>\n",
       "      <td>3</td>\n",
       "    </tr>\n",
       "    <tr>\n",
       "      <th>28</th>\n",
       "      <td>29</td>\n",
       "      <td>0</td>\n",
       "      <td>H</td>\n",
       "      <td>3</td>\n",
       "      <td>3</td>\n",
       "      <td>0</td>\n",
       "      <td>2</td>\n",
       "      <td>4</td>\n",
       "      <td>0</td>\n",
       "      <td>4</td>\n",
       "      <td>...</td>\n",
       "      <td>4</td>\n",
       "      <td>4</td>\n",
       "      <td>4</td>\n",
       "      <td>3</td>\n",
       "      <td>2</td>\n",
       "      <td>3</td>\n",
       "      <td>2</td>\n",
       "      <td>3</td>\n",
       "      <td>4</td>\n",
       "      <td>1</td>\n",
       "    </tr>\n",
       "    <tr>\n",
       "      <th>...</th>\n",
       "      <td>...</td>\n",
       "      <td>...</td>\n",
       "      <td>...</td>\n",
       "      <td>...</td>\n",
       "      <td>...</td>\n",
       "      <td>...</td>\n",
       "      <td>...</td>\n",
       "      <td>...</td>\n",
       "      <td>...</td>\n",
       "      <td>...</td>\n",
       "      <td>...</td>\n",
       "      <td>...</td>\n",
       "      <td>...</td>\n",
       "      <td>...</td>\n",
       "      <td>...</td>\n",
       "      <td>...</td>\n",
       "      <td>...</td>\n",
       "      <td>...</td>\n",
       "      <td>...</td>\n",
       "      <td>...</td>\n",
       "      <td>...</td>\n",
       "    </tr>\n",
       "    <tr>\n",
       "      <th>1990</th>\n",
       "      <td>1991</td>\n",
       "      <td>0</td>\n",
       "      <td>D</td>\n",
       "      <td>2</td>\n",
       "      <td>2</td>\n",
       "      <td>3</td>\n",
       "      <td>2</td>\n",
       "      <td>4</td>\n",
       "      <td>0</td>\n",
       "      <td>2</td>\n",
       "      <td>...</td>\n",
       "      <td>0</td>\n",
       "      <td>4</td>\n",
       "      <td>0</td>\n",
       "      <td>0</td>\n",
       "      <td>1</td>\n",
       "      <td>4</td>\n",
       "      <td>1</td>\n",
       "      <td>0</td>\n",
       "      <td>2</td>\n",
       "      <td>3</td>\n",
       "    </tr>\n",
       "    <tr>\n",
       "      <th>1997</th>\n",
       "      <td>1998</td>\n",
       "      <td>0</td>\n",
       "      <td>Q</td>\n",
       "      <td>4</td>\n",
       "      <td>1</td>\n",
       "      <td>0</td>\n",
       "      <td>1</td>\n",
       "      <td>0</td>\n",
       "      <td>0</td>\n",
       "      <td>1</td>\n",
       "      <td>...</td>\n",
       "      <td>2</td>\n",
       "      <td>1</td>\n",
       "      <td>4</td>\n",
       "      <td>2</td>\n",
       "      <td>0</td>\n",
       "      <td>4</td>\n",
       "      <td>0</td>\n",
       "      <td>3</td>\n",
       "      <td>3</td>\n",
       "      <td>2</td>\n",
       "    </tr>\n",
       "    <tr>\n",
       "      <th>2019</th>\n",
       "      <td>2020</td>\n",
       "      <td>0</td>\n",
       "      <td>N</td>\n",
       "      <td>2</td>\n",
       "      <td>4</td>\n",
       "      <td>1</td>\n",
       "      <td>1</td>\n",
       "      <td>0</td>\n",
       "      <td>0</td>\n",
       "      <td>1</td>\n",
       "      <td>...</td>\n",
       "      <td>3</td>\n",
       "      <td>2</td>\n",
       "      <td>1</td>\n",
       "      <td>0</td>\n",
       "      <td>0</td>\n",
       "      <td>3</td>\n",
       "      <td>4</td>\n",
       "      <td>4</td>\n",
       "      <td>2</td>\n",
       "      <td>0</td>\n",
       "    </tr>\n",
       "    <tr>\n",
       "      <th>2033</th>\n",
       "      <td>2034</td>\n",
       "      <td>0</td>\n",
       "      <td>D</td>\n",
       "      <td>2</td>\n",
       "      <td>3</td>\n",
       "      <td>3</td>\n",
       "      <td>2</td>\n",
       "      <td>0</td>\n",
       "      <td>2</td>\n",
       "      <td>2</td>\n",
       "      <td>...</td>\n",
       "      <td>0</td>\n",
       "      <td>4</td>\n",
       "      <td>0</td>\n",
       "      <td>0</td>\n",
       "      <td>0</td>\n",
       "      <td>2</td>\n",
       "      <td>3</td>\n",
       "      <td>4</td>\n",
       "      <td>2</td>\n",
       "      <td>2</td>\n",
       "    </tr>\n",
       "    <tr>\n",
       "      <th>2046</th>\n",
       "      <td>2047</td>\n",
       "      <td>0</td>\n",
       "      <td>Z</td>\n",
       "      <td>2</td>\n",
       "      <td>3</td>\n",
       "      <td>3</td>\n",
       "      <td>0</td>\n",
       "      <td>3</td>\n",
       "      <td>0</td>\n",
       "      <td>4</td>\n",
       "      <td>...</td>\n",
       "      <td>2</td>\n",
       "      <td>3</td>\n",
       "      <td>1</td>\n",
       "      <td>1</td>\n",
       "      <td>0</td>\n",
       "      <td>4</td>\n",
       "      <td>1</td>\n",
       "      <td>4</td>\n",
       "      <td>3</td>\n",
       "      <td>1</td>\n",
       "    </tr>\n",
       "  </tbody>\n",
       "</table>\n",
       "<p>191 rows × 787 columns</p>\n",
       "</div>"
      ],
      "text/plain": [
       "        id  digit letter  0  1  2  3  4  5  6  ...  774  775  776  777  778  \\\n",
       "1        2      0      B  0  4  0  0  4  1  1  ...    0    3    0    1    4   \n",
       "15      16      0      I  1  3  2  3  0  2  4  ...    0    2    3    3    2   \n",
       "21      22      0      Y  4  2  4  0  0  1  4  ...    4    0    4    4    3   \n",
       "22      23      0      T  2  2  2  4  2  0  3  ...    2    4    0    3    0   \n",
       "28      29      0      H  3  3  0  2  4  0  4  ...    4    4    4    3    2   \n",
       "...    ...    ...    ... .. .. .. .. .. .. ..  ...  ...  ...  ...  ...  ...   \n",
       "1990  1991      0      D  2  2  3  2  4  0  2  ...    0    4    0    0    1   \n",
       "1997  1998      0      Q  4  1  0  1  0  0  1  ...    2    1    4    2    0   \n",
       "2019  2020      0      N  2  4  1  1  0  0  1  ...    3    2    1    0    0   \n",
       "2033  2034      0      D  2  3  3  2  0  2  2  ...    0    4    0    0    0   \n",
       "2046  2047      0      Z  2  3  3  0  3  0  4  ...    2    3    1    1    0   \n",
       "\n",
       "      779  780  781  782  783  \n",
       "1       1    4    2    1    2  \n",
       "15      4    2    3    1    4  \n",
       "21      4    2    3    2    0  \n",
       "22      1    2    2    2    3  \n",
       "28      3    2    3    4    1  \n",
       "...   ...  ...  ...  ...  ...  \n",
       "1990    4    1    0    2    3  \n",
       "1997    4    0    3    3    2  \n",
       "2019    3    4    4    2    0  \n",
       "2033    2    3    4    2    2  \n",
       "2046    4    1    4    3    1  \n",
       "\n",
       "[191 rows x 787 columns]"
      ]
     },
     "execution_count": 6,
     "metadata": {},
     "output_type": "execute_result"
    }
   ],
   "source": [
    "DFtrain[DFtrain.digit == 0]"
   ]
  },
  {
   "cell_type": "code",
   "execution_count": 7,
   "metadata": {
    "execution": {
     "iopub.execute_input": "2020-09-07T19:00:10.316076Z",
     "iopub.status.busy": "2020-09-07T19:00:10.315295Z",
     "iopub.status.idle": "2020-09-07T19:00:10.317790Z",
     "shell.execute_reply": "2020-09-07T19:00:10.318391Z"
    },
    "id": "S4PIDhoDLbsZ",
    "papermill": {
     "duration": 0.017099,
     "end_time": "2020-09-07T19:00:10.318508",
     "exception": false,
     "start_time": "2020-09-07T19:00:10.301409",
     "status": "completed"
    },
    "tags": []
   },
   "outputs": [],
   "source": [
    "BUFFER_SIZE = 60000\n",
    "BATCH_SIZE = 32"
   ]
  },
  {
   "cell_type": "code",
   "execution_count": 8,
   "metadata": {
    "execution": {
     "iopub.execute_input": "2020-09-07T19:00:10.344662Z",
     "iopub.status.busy": "2020-09-07T19:00:10.343870Z",
     "iopub.status.idle": "2020-09-07T19:00:10.346766Z",
     "shell.execute_reply": "2020-09-07T19:00:10.346282Z"
    },
    "id": "-yKCCQOoJ7cn",
    "papermill": {
     "duration": 0.017958,
     "end_time": "2020-09-07T19:00:10.346868",
     "exception": false,
     "start_time": "2020-09-07T19:00:10.328910",
     "status": "completed"
    },
    "tags": []
   },
   "outputs": [],
   "source": [
    "# 데이터 배치를 만들고 섞습니다.\n",
    "def CreatDataSet(X_train):\n",
    "    train_dataset = tf.data.Dataset.from_tensor_slices(X_train).shuffle(BUFFER_SIZE).batch(BATCH_SIZE)\n",
    "    return train_dataset"
   ]
  },
  {
   "cell_type": "markdown",
   "execution_count": null,
   "metadata": {
    "id": "-tEyxE-GMC48",
    "papermill": {
     "duration": 0.010473,
     "end_time": "2020-09-07T19:00:10.368323",
     "exception": false,
     "start_time": "2020-09-07T19:00:10.357850",
     "status": "completed"
    },
    "tags": []
   },
   "source": [
    "### 생성자\n",
    "\n",
    "생성자는 시드값 (seed; 랜덤한 잡음)으로부터 이미지를 생성하기 위해, `tf.keras.layers.Conv2DTranspose` (업샘플링) 층을 이용합니다. 처음 `Dense`층은 이 시드값을 인풋으로 받습니다. 그 다음 원하는 사이즈 28x28x1의 이미지가 나오도록 업샘플링을 여러번 합니다. tanh를 사용하는 마지막 층을 제외한 나머지 각 층마다 활성함수로 `tf.keras.layers.LeakyReLU`을 사용하고 있음을 주목합시다."
   ]
  },
  {
   "cell_type": "code",
   "execution_count": 9,
   "metadata": {
    "execution": {
     "iopub.execute_input": "2020-09-07T19:00:10.403551Z",
     "iopub.status.busy": "2020-09-07T19:00:10.402734Z",
     "iopub.status.idle": "2020-09-07T19:00:10.405607Z",
     "shell.execute_reply": "2020-09-07T19:00:10.405140Z"
    },
    "id": "6bpTcDqoLWjY",
    "papermill": {
     "duration": 0.026887,
     "end_time": "2020-09-07T19:00:10.405713",
     "exception": false,
     "start_time": "2020-09-07T19:00:10.378826",
     "status": "completed"
    },
    "tags": []
   },
   "outputs": [],
   "source": [
    "def make_generator_model():\n",
    "    model = tf.keras.Sequential()\n",
    "    model.add(layers.Dense(7*7*256, use_bias=False, input_shape=(100,)))\n",
    "    model.add(layers.BatchNormalization())\n",
    "    model.add(layers.LeakyReLU())\n",
    "\n",
    "    model.add(layers.Reshape((7, 7, 256)))\n",
    "    assert model.output_shape == (None, 7, 7, 256) # 주목: 배치사이즈로 None이 주어집니다.\n",
    "\n",
    "    model.add(layers.Conv2DTranspose(128, (5, 5), strides=(1, 1), padding='same', use_bias=False))\n",
    "    assert model.output_shape == (None, 7, 7, 128)\n",
    "    model.add(layers.BatchNormalization())\n",
    "    model.add(layers.LeakyReLU())\n",
    "\n",
    "    model.add(layers.Conv2DTranspose(64, (5, 5), strides=(2, 2), padding='same', use_bias=False))\n",
    "    assert model.output_shape == (None, 14, 14, 64)\n",
    "    model.add(layers.BatchNormalization())\n",
    "    model.add(layers.LeakyReLU())\n",
    "\n",
    "    model.add(layers.Conv2DTranspose(1, (5, 5), strides=(2, 2), padding='same', use_bias=False, activation='tanh'))\n",
    "    assert model.output_shape == (None, 28, 28, 1)\n",
    "\n",
    "    return model"
   ]
  },
  {
   "cell_type": "markdown",
   "execution_count": null,
   "metadata": {
    "id": "GyWgG09LCSJl",
    "papermill": {
     "duration": 0.010591,
     "end_time": "2020-09-07T19:00:10.427018",
     "exception": false,
     "start_time": "2020-09-07T19:00:10.416427",
     "status": "completed"
    },
    "tags": []
   },
   "source": [
    "(아직 훈련이 되지않은) 생성자를 이용해 이미지를 생성해봅시다. "
   ]
  },
  {
   "cell_type": "code",
   "execution_count": 10,
   "metadata": {
    "execution": {
     "iopub.execute_input": "2020-09-07T19:00:10.454852Z",
     "iopub.status.busy": "2020-09-07T19:00:10.454173Z",
     "iopub.status.idle": "2020-09-07T19:00:17.170915Z",
     "shell.execute_reply": "2020-09-07T19:00:17.170407Z"
    },
    "id": "gl7jcC7TdPTG",
    "papermill": {
     "duration": 6.733259,
     "end_time": "2020-09-07T19:00:17.171029",
     "exception": false,
     "start_time": "2020-09-07T19:00:10.437770",
     "status": "completed"
    },
    "tags": []
   },
   "outputs": [
    {
     "data": {
      "text/plain": [
       "<matplotlib.image.AxesImage at 0x7f680858e7d0>"
      ]
     },
     "execution_count": 10,
     "metadata": {},
     "output_type": "execute_result"
    },
    {
     "data": {
      "image/png": "[encoded data removed]",
      "text/plain": [
       "<Figure size 432x288 with 1 Axes>"
      ]
     },
     "metadata": {
      "needs_background": "light"
     },
     "output_type": "display_data"
    }
   ],
   "source": [
    "generator = make_generator_model()\n",
    "\n",
    "noise = tf.random.normal([1, 100])\n",
    "generated_image = generator(noise, training=False)\n",
    "\n",
    "plt.imshow(generated_image[0, :, :, 0], cmap='gray')"
   ]
  },
  {
   "cell_type": "markdown",
   "execution_count": null,
   "metadata": {
    "id": "D0IKnaCtg6WE",
    "papermill": {
     "duration": 0.011077,
     "end_time": "2020-09-07T19:00:17.193961",
     "exception": false,
     "start_time": "2020-09-07T19:00:17.182884",
     "status": "completed"
    },
    "tags": []
   },
   "source": [
    "### 감별자 \n",
    "감별자는 합성곱 신경망(Convolutional Neural Network, CNN) 기반의 이미지 분류기입니다. "
   ]
  },
  {
   "cell_type": "code",
   "execution_count": 11,
   "metadata": {
    "execution": {
     "iopub.execute_input": "2020-09-07T19:00:17.227382Z",
     "iopub.status.busy": "2020-09-07T19:00:17.226628Z",
     "iopub.status.idle": "2020-09-07T19:00:17.230962Z",
     "shell.execute_reply": "2020-09-07T19:00:17.230399Z"
    },
    "id": "dw2tPLmk2pEP",
    "papermill": {
     "duration": 0.025539,
     "end_time": "2020-09-07T19:00:17.231073",
     "exception": false,
     "start_time": "2020-09-07T19:00:17.205534",
     "status": "completed"
    },
    "tags": []
   },
   "outputs": [],
   "source": [
    "def make_discriminator_model():\n",
    "    model = tf.keras.Sequential()\n",
    "    model.add(layers.Conv2D(64, (5, 5), strides=(2, 2), padding='same',\n",
    "                                     input_shape=[28, 28, 1]))\n",
    "    model.add(layers.LeakyReLU())\n",
    "    model.add(layers.Dropout(0.3))\n",
    "\n",
    "    model.add(layers.Conv2D(128, (5, 5), strides=(2, 2), padding='same'))\n",
    "    model.add(layers.LeakyReLU())\n",
    "    model.add(layers.Dropout(0.3))\n",
    "\n",
    "    model.add(layers.Flatten())\n",
    "    model.add(layers.Dense(1))\n",
    "\n",
    "    return model"
   ]
  },
  {
   "cell_type": "markdown",
   "execution_count": null,
   "metadata": {
    "id": "QhPneagzCaQv",
    "papermill": {
     "duration": 0.011079,
     "end_time": "2020-09-07T19:00:17.253411",
     "exception": false,
     "start_time": "2020-09-07T19:00:17.242332",
     "status": "completed"
    },
    "tags": []
   },
   "source": [
    "(아직까지 훈련이 되지 않은) 감별자를 사용하여, 생성된 이미지가 진짜인지 가짜인지 판별합니다. 모델은 진짜 이미지에는 양수의 값 (positive values)을, 가짜 이미지에는 음수의 값 (negative values)을 출력하도록 훈련되어집니다."
   ]
  },
  {
   "cell_type": "code",
   "execution_count": 12,
   "metadata": {
    "execution": {
     "iopub.execute_input": "2020-09-07T19:00:17.282610Z",
     "iopub.status.busy": "2020-09-07T19:00:17.281720Z",
     "iopub.status.idle": "2020-09-07T19:00:17.495188Z",
     "shell.execute_reply": "2020-09-07T19:00:17.495800Z"
    },
    "id": "gDkA05NE6QMs",
    "papermill": {
     "duration": 0.231254,
     "end_time": "2020-09-07T19:00:17.495938",
     "exception": false,
     "start_time": "2020-09-07T19:00:17.264684",
     "status": "completed"
    },
    "tags": []
   },
   "outputs": [
    {
     "name": "stdout",
     "output_type": "stream",
     "text": [
      "tf.Tensor([[-0.00192381]], shape=(1, 1), dtype=float32)\n"
     ]
    }
   ],
   "source": [
    "discriminator = make_discriminator_model()\n",
    "decision = discriminator(generated_image)\n",
    "print (decision)"
   ]
  },
  {
   "cell_type": "markdown",
   "execution_count": null,
   "metadata": {
    "id": "0FMYgY_mPfTi",
    "papermill": {
     "duration": 0.010972,
     "end_time": "2020-09-07T19:00:17.518390",
     "exception": false,
     "start_time": "2020-09-07T19:00:17.507418",
     "status": "completed"
    },
    "tags": []
   },
   "source": [
    "## 손실함수와 옵티마이저 정의\n",
    "두 모델의 손실함수와 옵티마이저를 정의합니다. "
   ]
  },
  {
   "cell_type": "code",
   "execution_count": 13,
   "metadata": {
    "execution": {
     "iopub.execute_input": "2020-09-07T19:00:17.547578Z",
     "iopub.status.busy": "2020-09-07T19:00:17.545700Z",
     "iopub.status.idle": "2020-09-07T19:00:17.548249Z",
     "shell.execute_reply": "2020-09-07T19:00:17.548734Z"
    },
    "id": "psQfmXxYKU3X",
    "papermill": {
     "duration": 0.01902,
     "end_time": "2020-09-07T19:00:17.548858",
     "exception": false,
     "start_time": "2020-09-07T19:00:17.529838",
     "status": "completed"
    },
    "tags": []
   },
   "outputs": [],
   "source": [
    "# 이 메서드는 크로스 엔트로피 손실함수 (cross entropy loss)를 계산하기 위해 헬퍼 (helper) 함수를 반환합니다.\n",
    "cross_entropy = tf.keras.losses.BinaryCrossentropy(from_logits=True)"
   ]
  },
  {
   "cell_type": "markdown",
   "execution_count": null,
   "metadata": {
    "id": "PKY_iPSPNWoj",
    "papermill": {
     "duration": 0.01122,
     "end_time": "2020-09-07T19:00:17.571833",
     "exception": false,
     "start_time": "2020-09-07T19:00:17.560613",
     "status": "completed"
    },
    "tags": []
   },
   "source": [
    "### 감별자 손실함수\n",
    "\n",
    "이 메서드는 감별자가 가짜 이미지에서 얼마나 진짜 이미지를 잘 판별하는지 수치화합니다. 진짜 이미지에 대한 감별자의 예측과 1로 이루어진 행렬을 비교하고, 가짜 (생성된) 이미지에 대한 감별자의 예측과 0으로 이루어진 행렬을 비교합니다."
   ]
  },
  {
   "cell_type": "code",
   "execution_count": 14,
   "metadata": {
    "execution": {
     "iopub.execute_input": "2020-09-07T19:00:17.600882Z",
     "iopub.status.busy": "2020-09-07T19:00:17.600131Z",
     "iopub.status.idle": "2020-09-07T19:00:17.603431Z",
     "shell.execute_reply": "2020-09-07T19:00:17.603867Z"
    },
    "id": "wkMNfBWlT-PV",
    "papermill": {
     "duration": 0.020679,
     "end_time": "2020-09-07T19:00:17.604012",
     "exception": false,
     "start_time": "2020-09-07T19:00:17.583333",
     "status": "completed"
    },
    "tags": []
   },
   "outputs": [],
   "source": [
    "def discriminator_loss(real_output, fake_output):\n",
    "    real_loss = cross_entropy(tf.ones_like(real_output), real_output)\n",
    "    fake_loss = cross_entropy(tf.zeros_like(fake_output), fake_output)\n",
    "    total_loss = real_loss + fake_loss\n",
    "    return total_loss"
   ]
  },
  {
   "cell_type": "markdown",
   "execution_count": null,
   "metadata": {
    "id": "Jd-3GCUEiKtv",
    "papermill": {
     "duration": 0.010995,
     "end_time": "2020-09-07T19:00:17.626442",
     "exception": false,
     "start_time": "2020-09-07T19:00:17.615447",
     "status": "completed"
    },
    "tags": []
   },
   "source": [
    "### 생성자 손실함수\n",
    "\n",
    "생성자의 손실함수는 감별자를 얼마나 잘 속였는지에 대해 수치화를 합니다. 직관적으로 생성자가 원활히 수행되고 있다면, 감별자는 가짜 이미지를 진짜 (또는 1)로 분류를 할 것입니다. 여기서 우리는 생성된 이미지에 대한 감별자의 결정을 1로 이루어진 행렬과 비교를 할 것입니다. "
   ]
  },
  {
   "cell_type": "code",
   "execution_count": 15,
   "metadata": {
    "execution": {
     "iopub.execute_input": "2020-09-07T19:00:17.654397Z",
     "iopub.status.busy": "2020-09-07T19:00:17.653535Z",
     "iopub.status.idle": "2020-09-07T19:00:17.656336Z",
     "shell.execute_reply": "2020-09-07T19:00:17.655804Z"
    },
    "id": "90BIcCKcDMxz",
    "papermill": {
     "duration": 0.018642,
     "end_time": "2020-09-07T19:00:17.656434",
     "exception": false,
     "start_time": "2020-09-07T19:00:17.637792",
     "status": "completed"
    },
    "tags": []
   },
   "outputs": [],
   "source": [
    "def generator_loss(fake_output):\n",
    "    return cross_entropy(tf.ones_like(fake_output), fake_output)"
   ]
  },
  {
   "cell_type": "markdown",
   "execution_count": null,
   "metadata": {
    "id": "MgIc7i0th_Iu",
    "papermill": {
     "duration": 0.011078,
     "end_time": "2020-09-07T19:00:17.678619",
     "exception": false,
     "start_time": "2020-09-07T19:00:17.667541",
     "status": "completed"
    },
    "tags": []
   },
   "source": [
    "감별자와 생성자는 따로 훈련되기 때문에, 감별자와 생성자의 옵티마이저는 다릅니다."
   ]
  },
  {
   "cell_type": "code",
   "execution_count": 16,
   "metadata": {
    "execution": {
     "iopub.execute_input": "2020-09-07T19:00:17.706615Z",
     "iopub.status.busy": "2020-09-07T19:00:17.705722Z",
     "iopub.status.idle": "2020-09-07T19:00:17.708244Z",
     "shell.execute_reply": "2020-09-07T19:00:17.708681Z"
    },
    "id": "iWCn_PVdEJZ7",
    "papermill": {
     "duration": 0.018781,
     "end_time": "2020-09-07T19:00:17.708803",
     "exception": false,
     "start_time": "2020-09-07T19:00:17.690022",
     "status": "completed"
    },
    "tags": []
   },
   "outputs": [],
   "source": [
    "generator_optimizer = tf.keras.optimizers.Adam(1e-4)\n",
    "discriminator_optimizer = tf.keras.optimizers.Adam(1e-4)"
   ]
  },
  {
   "cell_type": "markdown",
   "execution_count": null,
   "metadata": {
    "id": "mWtinsGDPJlV",
    "papermill": {
     "duration": 0.011032,
     "end_time": "2020-09-07T19:00:17.731306",
     "exception": false,
     "start_time": "2020-09-07T19:00:17.720274",
     "status": "completed"
    },
    "tags": []
   },
   "source": [
    "### 체크포인트 저장\n",
    "이 노트북은 오랫동안 진행되는 훈련이 방해되는 경우에 유용하게 쓰일 수 있는 모델의 저장방법과 복구방법을 보여줍니다. "
   ]
  },
  {
   "cell_type": "code",
   "execution_count": 17,
   "metadata": {
    "execution": {
     "iopub.execute_input": "2020-09-07T19:00:17.760104Z",
     "iopub.status.busy": "2020-09-07T19:00:17.759337Z",
     "iopub.status.idle": "2020-09-07T19:00:17.761856Z",
     "shell.execute_reply": "2020-09-07T19:00:17.762366Z"
    },
    "id": "CA1w-7s2POEy",
    "papermill": {
     "duration": 0.019956,
     "end_time": "2020-09-07T19:00:17.762491",
     "exception": false,
     "start_time": "2020-09-07T19:00:17.742535",
     "status": "completed"
    },
    "tags": []
   },
   "outputs": [],
   "source": [
    "checkpoint_dir = './training_checkpoints'\n",
    "checkpoint_prefix = os.path.join(checkpoint_dir, \"ckpt\")\n",
    "checkpoint = tf.train.Checkpoint(generator_optimizer=generator_optimizer,\n",
    "                                 discriminator_optimizer=discriminator_optimizer,\n",
    "                                 generator=generator,\n",
    "                                 discriminator=discriminator)"
   ]
  },
  {
   "cell_type": "markdown",
   "execution_count": null,
   "metadata": {
    "id": "Rw1fkAczTQYh",
    "papermill": {
     "duration": 0.011012,
     "end_time": "2020-09-07T19:00:17.784782",
     "exception": false,
     "start_time": "2020-09-07T19:00:17.773770",
     "status": "completed"
    },
    "tags": []
   },
   "source": [
    "## 훈련 루프 정의하기"
   ]
  },
  {
   "cell_type": "code",
   "execution_count": 18,
   "metadata": {
    "execution": {
     "iopub.execute_input": "2020-09-07T19:00:17.812682Z",
     "iopub.status.busy": "2020-09-07T19:00:17.811904Z",
     "iopub.status.idle": "2020-09-07T19:00:17.815367Z",
     "shell.execute_reply": "2020-09-07T19:00:17.814884Z"
    },
    "id": "NS2GWywBbAWo",
    "papermill": {
     "duration": 0.019262,
     "end_time": "2020-09-07T19:00:17.815472",
     "exception": false,
     "start_time": "2020-09-07T19:00:17.796210",
     "status": "completed"
    },
    "tags": []
   },
   "outputs": [],
   "source": [
    "EPOCHS = 8000\n",
    "noise_dim = 100\n",
    "num_examples_to_generate = 16\n",
    "\n",
    "# 이 시드를 시간이 지나도 재활용하겠습니다. \n",
    "# (GIF 애니메이션에서 진전 내용을 시각화하는데 쉽기 때문입니다.) \n",
    "seed = tf.random.normal([num_examples_to_generate, noise_dim])"
   ]
  },
  {
   "cell_type": "markdown",
   "execution_count": null,
   "metadata": {
    "id": "jylSonrqSWfi",
    "papermill": {
     "duration": 0.011329,
     "end_time": "2020-09-07T19:00:17.838455",
     "exception": false,
     "start_time": "2020-09-07T19:00:17.827126",
     "status": "completed"
    },
    "tags": []
   },
   "source": [
    "훈련 루프는 생성자가 입력으로 랜덤시드를 받는 것으로부터 시작됩니다. 그 시드값을 사용하여 이미지를 생성합니다. 감별자를 사용하여 (훈련 세트에서 갖고온) 진짜 이미지와 (생성자가 생성해낸) 가짜이미지를 분류합니다. 각 모델의 손실을 계산하고, 그래디언트 (gradients)를 사용해 생성자와 감별자를 업데이트합니다."
   ]
  },
  {
   "cell_type": "code",
   "execution_count": 19,
   "metadata": {
    "execution": {
     "iopub.execute_input": "2020-09-07T19:00:17.870891Z",
     "iopub.status.busy": "2020-09-07T19:00:17.870122Z",
     "iopub.status.idle": "2020-09-07T19:00:17.873176Z",
     "shell.execute_reply": "2020-09-07T19:00:17.872583Z"
    },
    "id": "3t5ibNo05jCB",
    "papermill": {
     "duration": 0.023344,
     "end_time": "2020-09-07T19:00:17.873273",
     "exception": false,
     "start_time": "2020-09-07T19:00:17.849929",
     "status": "completed"
    },
    "tags": []
   },
   "outputs": [],
   "source": [
    "# `tf.function`이 어떻게 사용되는지 주목해 주세요.\n",
    "# 이 데코레이터는 함수를 \"컴파일\"합니다.\n",
    "@tf.function\n",
    "def train_step(images):\n",
    "    noise = tf.random.normal([BATCH_SIZE, noise_dim])\n",
    "\n",
    "    with tf.GradientTape() as gen_tape, tf.GradientTape() as disc_tape:\n",
    "      generated_images = generator(noise, training=True)\n",
    "\n",
    "      real_output = discriminator(images, training=True)\n",
    "      fake_output = discriminator(generated_images, training=True)\n",
    "\n",
    "      gen_loss = generator_loss(fake_output)\n",
    "      disc_loss = discriminator_loss(real_output, fake_output)\n",
    "\n",
    "    gradients_of_generator = gen_tape.gradient(gen_loss, generator.trainable_variables)\n",
    "    gradients_of_discriminator = disc_tape.gradient(disc_loss, discriminator.trainable_variables)\n",
    "\n",
    "    generator_optimizer.apply_gradients(zip(gradients_of_generator, generator.trainable_variables))\n",
    "    discriminator_optimizer.apply_gradients(zip(gradients_of_discriminator, discriminator.trainable_variables))"
   ]
  },
  {
   "cell_type": "code",
   "execution_count": 20,
   "metadata": {
    "execution": {
     "iopub.execute_input": "2020-09-07T19:00:17.904970Z",
     "iopub.status.busy": "2020-09-07T19:00:17.903638Z",
     "iopub.status.idle": "2020-09-07T19:00:17.907855Z",
     "shell.execute_reply": "2020-09-07T19:00:17.907393Z"
    },
    "id": "2M7LmLtGEMQJ",
    "papermill": {
     "duration": 0.023271,
     "end_time": "2020-09-07T19:00:17.907959",
     "exception": false,
     "start_time": "2020-09-07T19:00:17.884688",
     "status": "completed"
    },
    "tags": []
   },
   "outputs": [],
   "source": [
    "def train(dataset, epochs, numValue):\n",
    "  for epoch in range(epochs):\n",
    "    start = time.time()\n",
    "\n",
    "    for image_batch in dataset:\n",
    "      train_step(image_batch)\n",
    "\n",
    "    # GIF를 위한 이미지를 바로 생성합니다.\n",
    "    if epoch % 300 == 0:\n",
    "        display.clear_output(wait=True)\n",
    "        generate_and_save_images(generator,\n",
    "                                 epoch + 1,\n",
    "                                 seed,\n",
    "                                 numValue)\n",
    "\n",
    "    # 15 에포크가 지날 때마다 모델을 저장합니다.\n",
    "    if (epoch + 1) % 1000 == 0:\n",
    "      checkpoint.save(file_prefix = checkpoint_prefix)\n",
    "    \n",
    "    # print (' 에포크 {} 에서 걸린 시간은 {} 초 입니다'.format(epoch +1, time.time()-start))\n",
    "    if epoch % 100 == 0:\n",
    "        print ('Num {} time for epoch {} is {} sec'.format(numValue, epoch + 1, time.time()-start))\n",
    "\n",
    "  # 마지막 에포크가 끝난 후 생성합니다.\n",
    "  display.clear_output(wait=True)\n",
    "  generate_and_save_images(generator,\n",
    "                           epochs,\n",
    "                           seed,\n",
    "                           numValue)"
   ]
  },
  {
   "cell_type": "markdown",
   "execution_count": null,
   "metadata": {
    "id": "2aFF7Hk3XdeW",
    "papermill": {
     "duration": 0.011422,
     "end_time": "2020-09-07T19:00:17.930888",
     "exception": false,
     "start_time": "2020-09-07T19:00:17.919466",
     "status": "completed"
    },
    "tags": []
   },
   "source": [
    "**이미지 생성 및 저장**\n"
   ]
  },
  {
   "cell_type": "code",
   "execution_count": 21,
   "metadata": {
    "execution": {
     "iopub.execute_input": "2020-09-07T19:00:17.962199Z",
     "iopub.status.busy": "2020-09-07T19:00:17.961310Z",
     "iopub.status.idle": "2020-09-07T19:00:17.964421Z",
     "shell.execute_reply": "2020-09-07T19:00:17.963929Z"
    },
    "id": "RmdVsmvhPxyy",
    "papermill": {
     "duration": 0.0221,
     "end_time": "2020-09-07T19:00:17.964520",
     "exception": false,
     "start_time": "2020-09-07T19:00:17.942420",
     "status": "completed"
    },
    "tags": []
   },
   "outputs": [],
   "source": [
    "def generate_and_save_images(model, epoch, test_input, k):\n",
    "  # `training`이 False로 맞춰진 것을 주목하세요.\n",
    "  # 이렇게 하면 (배치정규화를 포함하여) 모든 층들이 추론 모드로 실행됩니다. \n",
    "  predictions = model(test_input, training=False)\n",
    "\n",
    "  fig = plt.figure(figsize=(4,4))\n",
    "\n",
    "  for i in range(predictions.shape[0]):\n",
    "      plt.subplot(4, 4, i+1)\n",
    "      plt.imshow(predictions[i, :, :, 0] * 127.5 + 127.5, cmap='gray')\n",
    "      plt.axis('off')\n",
    "\n",
    "  plt.savefig('NUM{}_image_at_epoch_{:04d}.png'.format(k, epoch))\n",
    "  plt.show()"
   ]
  },
  {
   "cell_type": "code",
   "execution_count": 22,
   "metadata": {
    "execution": {
     "iopub.execute_input": "2020-09-07T19:00:17.993467Z",
     "iopub.status.busy": "2020-09-07T19:00:17.992271Z",
     "iopub.status.idle": "2020-09-07T19:00:17.994696Z",
     "shell.execute_reply": "2020-09-07T19:00:17.995141Z"
    },
    "id": "WfO5wCdclHGL",
    "papermill": {
     "duration": 0.018695,
     "end_time": "2020-09-07T19:00:17.995272",
     "exception": false,
     "start_time": "2020-09-07T19:00:17.976577",
     "status": "completed"
    },
    "tags": []
   },
   "outputs": [],
   "source": [
    "# 에포크 숫자를 사용하여 하나의 이미지를 보여줍니다.\n",
    "def display_image(epoch_no, num):\n",
    "  return PIL.Image.open('NUM{}_image_at_epoch_{:04d}.png'.format(num, epoch_no))"
   ]
  },
  {
   "cell_type": "markdown",
   "execution_count": null,
   "metadata": {
    "id": "dZrd4CdjR-Fp",
    "papermill": {
     "duration": 0.011675,
     "end_time": "2020-09-07T19:00:18.018633",
     "exception": false,
     "start_time": "2020-09-07T19:00:18.006958",
     "status": "completed"
    },
    "tags": []
   },
   "source": [
    "## 모델 훈련\n",
    "위에 정의된 `train()` 메서드를 생성자와 감별자를 동시에 훈련하기 위해 호출합니다. 생성적 적대 신경망을 학습하는 것은 매우 까다로울 수 있습니다. 생성자와 감별자가 서로를 제압하지 않는 것이 중요합니다. (예를 들어 학습률이 비슷하면 한쪽이 우세해집니다.)\n",
    "훈련 초반부에는 생성된 이미지는 랜덤한 노이즈처럼 보입니다. 훈련이 진행될수록, 생성된 숫자는 점차 진짜처럼 보일 것입니다. 약 50 에포크가 지난 후, MNIST 숫자와 닮은 이미지가 생성됩니다. 코랩에서 기본 설정으로 실행하면, 에포크마다 1분정도 소요될 것입니다."
   ]
  },
  {
   "cell_type": "code",
   "execution_count": 23,
   "metadata": {
    "execution": {
     "iopub.execute_input": "2020-09-07T19:00:18.061108Z",
     "iopub.status.busy": "2020-09-07T19:00:18.060171Z",
     "iopub.status.idle": "2020-09-07T20:00:07.512716Z",
     "shell.execute_reply": "2020-09-07T20:00:07.511648Z"
    },
    "id": "Ly3UN0SLLY2l",
    "papermill": {
     "duration": 3589.482529,
     "end_time": "2020-09-07T20:00:07.512863",
     "exception": false,
     "start_time": "2020-09-07T19:00:18.030334",
     "status": "completed"
    },
    "tags": []
   },
   "outputs": [
    {
     "data": {
      "image/png": "[encoded data removed]",
      "text/plain": [
       "<Figure size 288x288 with 16 Axes>"
      ]
     },
     "metadata": {
      "needs_background": "light"
     },
     "output_type": "display_data"
    }
   ],
   "source": [
    "weight_dir = './weight/'\n",
    "weight_prefix = os.path.join(checkpoint_dir, \"ckpt\")\n",
    "\n",
    "for i in range(0, 10):\n",
    "#     %%time\n",
    "    train(CreatDataSet(np.array(DFtrain[DFtrain.digit == i].drop(['id', 'digit', 'letter'], axis=1, inplace=False)).reshape(-1, 28, 28, 1)), EPOCHS, i)\n",
    "\n",
    "#     discriminator.save(f'./weight/NUM-{i}-Params.h5')\n",
    "    \n",
    "    discriminator.save(f'NUM-{i}-Params.h5')\n",
    "    \n",
    "    model_json = discriminator.to_json()\n",
    "    with open(f\"NUM{i}.json\", \"w\") as json_file : \n",
    "        json_file.write(model_json)\n",
    "        \n",
    "    \n",
    "    with imageio.get_writer(f'NUM-{i}-dcgan.gif', mode='I') as writer:\n",
    "      filenames = glob.glob('NUM{}_image_at_epoch_{:04d}.png'.format(i, i))\n",
    "      filenames = sorted(filenames)\n",
    "      last = -1\n",
    "      for i,filename in enumerate(filenames):\n",
    "        frame = 2*(i**0.5)\n",
    "        if round(frame) > round(last):\n",
    "          last = frame\n",
    "        else:\n",
    "          continue\n",
    "        image = imageio.imread(filename)\n",
    "        writer.append_data(image)\n",
    "        image = imageio.imread(filename)\n",
    "        writer.append_data(image)\n",
    "        \n",
    "#     for img in range(0, EPOCHS):\n",
    "#         if img%200 == 0:\n",
    "#             if img == 0:\n",
    "#                 continue\n",
    "#             os.remove('./NUM{}_image_at_epoch_{:04d}.png'.format(i, (img+1)))"
   ]
  },
  {
   "cell_type": "markdown",
   "execution_count": null,
   "metadata": {
    "id": "NywiH3nL8guF",
    "papermill": {
     "duration": 0.013097,
     "end_time": "2020-09-07T20:00:07.539919",
     "exception": false,
     "start_time": "2020-09-07T20:00:07.526822",
     "status": "completed"
    },
    "tags": []
   },
   "source": [
    "`imageio`로 훈련 중에 저장된 이미지를 사용해 GIF 애니메이션을 만듭니다."
   ]
  },
  {
   "cell_type": "markdown",
   "execution_count": null,
   "metadata": {
    "id": "rfM4YcPVPkNO",
    "papermill": {
     "duration": 0.012327,
     "end_time": "2020-09-07T20:00:07.564779",
     "exception": false,
     "start_time": "2020-09-07T20:00:07.552452",
     "status": "completed"
    },
    "tags": []
   },
   "source": [
    "마지막 체크포인트를 복구합니다."
   ]
  },
  {
   "cell_type": "code",
   "execution_count": 24,
   "metadata": {
    "execution": {
     "iopub.execute_input": "2020-09-07T20:00:07.595913Z",
     "iopub.status.busy": "2020-09-07T20:00:07.595050Z",
     "iopub.status.idle": "2020-09-07T20:00:07.715618Z",
     "shell.execute_reply": "2020-09-07T20:00:07.715085Z"
    },
    "id": "XhXsd0srPo8c",
    "papermill": {
     "duration": 0.138604,
     "end_time": "2020-09-07T20:00:07.715731",
     "exception": false,
     "start_time": "2020-09-07T20:00:07.577127",
     "status": "completed"
    },
    "tags": []
   },
   "outputs": [
    {
     "data": {
      "text/plain": [
       "<tensorflow.python.training.tracking.util.CheckpointLoadStatus at 0x7f6805afb810>"
      ]
     },
     "execution_count": 24,
     "metadata": {},
     "output_type": "execute_result"
    }
   ],
   "source": [
    "checkpoint.restore(tf.train.latest_checkpoint(checkpoint_dir))"
   ]
  },
  {
   "cell_type": "code",
   "execution_count": 25,
   "metadata": {
    "execution": {
     "iopub.execute_input": "2020-09-07T20:00:07.747162Z",
     "iopub.status.busy": "2020-09-07T20:00:07.745196Z",
     "iopub.status.idle": "2020-09-07T20:00:07.747815Z",
     "shell.execute_reply": "2020-09-07T20:00:07.748295Z"
    },
    "id": "5x3q9_Oe5q0A",
    "papermill": {
     "duration": 0.019739,
     "end_time": "2020-09-07T20:00:07.748415",
     "exception": false,
     "start_time": "2020-09-07T20:00:07.728676",
     "status": "completed"
    },
    "tags": []
   },
   "outputs": [],
   "source": [
    "# for i in range (0, 10):\n",
    "#     display_image(EPOCHS, i)"
   ]
  },
  {
   "cell_type": "code",
   "execution_count": 26,
   "metadata": {
    "execution": {
     "iopub.execute_input": "2020-09-07T20:00:07.778310Z",
     "iopub.status.busy": "2020-09-07T20:00:07.777573Z",
     "iopub.status.idle": "2020-09-07T20:00:07.786389Z",
     "shell.execute_reply": "2020-09-07T20:00:07.785800Z"
    },
    "papermill": {
     "duration": 0.025366,
     "end_time": "2020-09-07T20:00:07.786507",
     "exception": false,
     "start_time": "2020-09-07T20:00:07.761141",
     "status": "completed"
    },
    "tags": []
   },
   "outputs": [
    {
     "data": {
      "image/gif": "[encoded data removed]",
      "text/plain": [
       "<IPython.core.display.Image object>"
      ]
     },
     "execution_count": 26,
     "metadata": {},
     "output_type": "execute_result"
    }
   ],
   "source": [
    "import IPython\n",
    "# for i in range(0, 10):\n",
    "display.Image(filename=f'NUM-{1}-dcgan.gif')"
   ]
  },
  {
   "cell_type": "markdown",
   "execution_count": null,
   "metadata": {
    "id": "cGhC3-fMWSwl",
    "papermill": {
     "duration": 0.013707,
     "end_time": "2020-09-07T20:00:07.815208",
     "exception": false,
     "start_time": "2020-09-07T20:00:07.801501",
     "status": "completed"
    },
    "tags": []
   },
   "source": [
    "코랩에서 작업하고 있다면, 아래의 코드에서 애니메이션을 다운로드 받을 수 있습니다: "
   ]
  },
  {
   "cell_type": "code",
   "execution_count": 27,
   "metadata": {
    "execution": {
     "iopub.execute_input": "2020-09-07T20:00:07.846635Z",
     "iopub.status.busy": "2020-09-07T20:00:07.845936Z",
     "iopub.status.idle": "2020-09-07T20:00:07.850398Z",
     "shell.execute_reply": "2020-09-07T20:00:07.849851Z"
    },
    "papermill": {
     "duration": 0.022025,
     "end_time": "2020-09-07T20:00:07.850501",
     "exception": false,
     "start_time": "2020-09-07T20:00:07.828476",
     "status": "completed"
    },
    "tags": []
   },
   "outputs": [],
   "source": [
    "now = datetime.datetime.now().strftime('%Y-%m-%d %H_%M_%S')"
   ]
  },
  {
   "cell_type": "code",
   "execution_count": 28,
   "metadata": {
    "execution": {
     "iopub.execute_input": "2020-09-07T20:00:07.883718Z",
     "iopub.status.busy": "2020-09-07T20:00:07.882618Z",
     "iopub.status.idle": "2020-09-07T20:00:07.940735Z",
     "shell.execute_reply": "2020-09-07T20:00:07.941485Z"
    },
    "papermill": {
     "duration": 0.07849,
     "end_time": "2020-09-07T20:00:07.941676",
     "exception": false,
     "start_time": "2020-09-07T20:00:07.863186",
     "status": "completed"
    },
    "tags": []
   },
   "outputs": [
    {
     "name": "stdout",
     "output_type": "stream",
     "text": [
      "tf.Tensor([[-5.4206433]], shape=(1, 1), dtype=float32)\n"
     ]
    }
   ],
   "source": [
    "# make_discriminator_model(img)\n",
    "\n",
    "discriminator = make_discriminator_model()\n",
    "decision = discriminator(img.reshape(1, 28, 28, 1))\n",
    "print(decision)"
   ]
  },
  {
   "cell_type": "code",
   "execution_count": 29,
   "metadata": {
    "execution": {
     "iopub.execute_input": "2020-09-07T20:00:07.982049Z",
     "iopub.status.busy": "2020-09-07T20:00:07.981173Z",
     "iopub.status.idle": "2020-09-07T20:00:08.782642Z",
     "shell.execute_reply": "2020-09-07T20:00:08.783653Z"
    },
    "papermill": {
     "duration": 0.8281,
     "end_time": "2020-09-07T20:00:08.783929",
     "exception": false,
     "start_time": "2020-09-07T20:00:07.955829",
     "status": "completed"
    },
    "tags": []
   },
   "outputs": [
    {
     "data": {
      "text/plain": [
       "<tf.Tensor: shape=(10,), dtype=float32, numpy=\n",
       "array([3.69271590e-17, 9.54615593e-01, 1.24113925e-03, 6.56235934e-05,\n",
       "       4.32208367e-02, 7.08313775e-04, 1.07452994e-04, 2.70599758e-05,\n",
       "       1.01678907e-05, 3.79152925e-06], dtype=float32)>"
      ]
     },
     "execution_count": 29,
     "metadata": {},
     "output_type": "execute_result"
    }
   ],
   "source": [
    "Ans = []\n",
    "for i in range(0, 10):\n",
    "    new_model = tf.keras.models.load_model(f'./NUM-{i}-Params.h5')\n",
    "    \n",
    "    decision = new_model(img.reshape(1, 28, 28, 1))\n",
    "    Ans.append(decision)\n",
    "    \n",
    "\n",
    "tf.nn.softmax(np.array(Ans).reshape(10), axis=None, name=None)\n",
    "# np.array(Ans).reshape(10,)"
   ]
  },
  {
   "cell_type": "markdown",
   "execution_count": null,
   "metadata": {
    "papermill": {
     "duration": 0.021907,
     "end_time": "2020-09-07T20:00:08.829793",
     "exception": false,
     "start_time": "2020-09-07T20:00:08.807886",
     "status": "completed"
    },
    "tags": []
   },
   "source": [
    "# Todo\n",
    "\n",
    "1. 숫자별 DCGAN 만들기\n",
    "2. 숫자별 예측하기\n",
    "3. 기존 CNN 모델과 앙상블 하기\n",
    "4. Random한 곳들에 seed 넣기\n",
    "5. 감별자 model 바꾸기"
   ]
  }
 ],
 "metadata": {
  "kernelspec": {
   "display_name": "Python 3",
   "language": "python",
   "name": "python3"
  },
  "language_info": {
   "codemirror_mode": {
    "name": "ipython",
    "version": 3
   },
   "file_extension": ".py",
   "mimetype": "text/x-python",
   "name": "python",
   "nbconvert_exporter": "python",
   "pygments_lexer": "ipython3",
   "version": "3.7.6"
  },
  "papermill": {
   "duration": 3640.97588,
   "end_time": "2020-09-07T20:00:10.164352",
   "environment_variables": {},
   "exception": null,
   "input_path": "__notebook__.ipynb",
   "output_path": "__notebook__.ipynb",
   "parameters": {},
   "start_time": "2020-09-07T18:59:29.188472",
   "version": "2.1.0"
  }
 },
 "nbformat": 4,
 "nbformat_minor": 4
}
